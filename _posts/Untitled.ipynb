{
 "cells": [
  {
   "cell_type": "markdown",
   "metadata": {},
   "source": [
    "# Notebook 2: U-Net\n",
    "\n",
    "### Introduction\n",
    "\n",
    "U-Net is another architecture type of CNN.Its name comes from the shape of its architecture which will be discussed in this post.\n",
    "\n",
    "U-Net was designed especially for medical image segmentation which is partitioning an image into multiple sections/segments.It's aim is to predict each pixel's class.\n",
    "\n",
    "I stopped there and asked what is the image segmentation is and at this point I thought is an abstruse topic yet I could not map the architecture in my mind, so I kept reading and then I came across this statement which made everything crystal clear:\n",
    "\n",
    "**\"In simple terms, they refer to pixel-level labelling i.e. each pixel in an image is provided with a class label. You get segmentation maps.\"**\n",
    "\n",
    "* The main idea behind U-Net is to learn the feature mapping of an image and exploit it to make more distinct feature mapping. It happens in three steps:\n",
    "- Classifying the image entirely\n",
    "- Segregation the image in groups\n",
    "- Classifies the segments/portions\n",
    "\n",
    "First, the image data needed to be converted into vector in order to perform classification. In image segmentation, we only need to convert feature map into a vector but also reconstruct the image from this vector.\n",
    "\n",
    "### Architecture\n",
    "\n",
    "![UNet Architecture](https://miro.medium.com/max/3110/1*lvXoKMHoPJMKpKK7keZMEA.png)\n",
    "\n",
    "The architecture is in \"U\" shape, so it vindicates it's name.\n",
    "There are two major parts:\n",
    "\n",
    "#### Left side(Contracting):\n",
    "This part is known as contracting part which follows a typical Convolutional Network, but with repetitons.\n",
    "**It consists two 3x3 convolutions and a 2x2 max pooling layer.**\n",
    "\n",
    "#### Right side (Expansion):\n",
    "We crop the image. Cropping is a must since the loss of border pixels in every convolution. We have an unsampling of the feature map and a 2x2 convolution that decreases the size of the image by half.\n",
    "\n",
    "![UNet](https://neurohive.io/wp-content/uploads/2018/11/u-net-x.png)\n",
    "\n",
    "#### Final Layer:\n",
    "* 1x1 convolutuion is used to map each component feature vector to the desired number of classes.\n",
    "* It has 23 convolutional layers in total.\n",
    "\n",
    "### Advantages\n",
    "- Computationally effective\n",
    "- Does not require big data to train the model, small data would be enough.\n",
    "- Trained end-to-end\n",
    "- Suitable for biomedical data\n",
    "\n",
    "Visit my ongoing project [Lung tumor detection using CNN](https://github.com/arncelik/Lung-Cancer-Detection) to see an example.\n",
    "\n"
   ]
  },
  {
   "cell_type": "code",
   "execution_count": null,
   "metadata": {},
   "outputs": [],
   "source": []
  }
 ],
 "metadata": {
  "kernelspec": {
   "display_name": "Python 3",
   "language": "python",
   "name": "python3"
  },
  "language_info": {
   "codemirror_mode": {
    "name": "ipython",
    "version": 3
   },
   "file_extension": ".py",
   "mimetype": "text/x-python",
   "name": "python",
   "nbconvert_exporter": "python",
   "pygments_lexer": "ipython3",
   "version": "3.7.4"
  }
 },
 "nbformat": 4,
 "nbformat_minor": 4
}
