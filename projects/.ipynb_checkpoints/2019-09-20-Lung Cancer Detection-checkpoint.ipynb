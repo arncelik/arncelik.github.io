{
 "cells": [
  {
   "cell_type": "markdown",
   "metadata": {},
   "source": [
    "# Lung Cancer Detection\n",
    "Currently, I am studying on this project which carries a sincere sense for me as a personal story led me to study cancer detection, especially lung cancer detection.\n",
    "Cancer is hard to diagnose in the early stages also there is no standard diagnostic tools or early detection methods for cancer yet. Early-stage cancer is usually found by looking at the symptoms early or if testing for signs of the disease.\n",
    "The result of the late treatment is hard to deal with and it costs a loved one's life.\n",
    "In an era where development of the technology is rapidly increasing, cancer detection should not be a cause of death. I would desire to study this affair and contribute as much as I can. I intend to develop a system which can detect all types of cancers and predict the probability of a cell's canceration if there is any, so people can take precautions."
   ]
  },
  {
   "cell_type": "markdown",
   "metadata": {},
   "source": [
    " \n",
    "I am using U-Net architecture that performs image segmentation perfectly,so that this arhitecture is commonly used in health informatics.\n",
    "The project is still in progress..\n"
   ]
  },
  {
   "cell_type": "code",
   "execution_count": null,
   "metadata": {},
   "outputs": [],
   "source": []
  },
  {
   "cell_type": "code",
   "execution_count": null,
   "metadata": {},
   "outputs": [],
   "source": []
  }
 ],
 "metadata": {
  "kernelspec": {
   "display_name": "Python 3",
   "language": "python",
   "name": "python3"
  },
  "language_info": {
   "codemirror_mode": {
    "name": "ipython",
    "version": 3
   },
   "file_extension": ".py",
   "mimetype": "text/x-python",
   "name": "python",
   "nbconvert_exporter": "python",
   "pygments_lexer": "ipython3",
   "version": "3.7.4"
  }
 },
 "nbformat": 4,
 "nbformat_minor": 4
}
